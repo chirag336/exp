{
 "cells": [
  {
   "cell_type": "code",
   "execution_count": 2,
   "metadata": {},
   "outputs": [],
   "source": [
    "import pandas as pd\n",
    "import numpy as np"
   ]
  },
  {
   "cell_type": "code",
   "execution_count": 8,
   "metadata": {},
   "outputs": [
    {
     "name": "stdout",
     "output_type": "stream",
     "text": [
      "   hi  hi2\n",
      "0   1    1\n",
      "1   2    2\n",
      "2   4    3\n",
      "3   5    2\n"
     ]
    }
   ],
   "source": [
    "data ={\n",
    "    \"hi\":[1,2,4,5],\n",
    "    \"hi2\":[1,2,3,2]\n",
    "}\n",
    "df = pd.DataFrame(data)\n",
    "print(df)\n",
    "# comment"
   ]
  }
 ],
 "metadata": {
  "kernelspec": {
   "display_name": "Python 3",
   "language": "python",
   "name": "python3"
  },
  "language_info": {
   "codemirror_mode": {
    "name": "ipython",
    "version": 3
   },
   "file_extension": ".py",
   "mimetype": "text/x-python",
   "name": "python",
   "nbconvert_exporter": "python",
   "pygments_lexer": "ipython3",
   "version": "3.12.1"
  }
 },
 "nbformat": 4,
 "nbformat_minor": 2
}
